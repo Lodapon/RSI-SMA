{
 "cells": [
  {
   "cell_type": "markdown",
   "id": "367bfaa5",
   "metadata": {},
   "source": [
    "# Supervised machine learning for stock price prediction and technical analysis for generating buy and sell signals\n",
    "\n",
    "this example is quite basic and may need further refinement for practical use. Also, you'll need to implement the calculate_rsi function to calculate the Relative Strength Index (RSI), as it's used as a feature in the model. Additionally, you may want to experiment with different machine learning models, hyperparameters, and features to improve the forecasting accuracy."
   ]
  },
  {
   "cell_type": "code",
   "execution_count": 12,
   "id": "df1665e2",
   "metadata": {},
   "outputs": [],
   "source": [
    "# Importing necessary libraries\n",
    "import numpy as np\n",
    "import pandas as pd\n",
    "import yfinance as yf\n",
    "\n",
    "#Library to fetch historical stock data from Yahoo Finance.\n",
    "from sklearn.model_selection import train_test_split\n",
    "\n",
    "#A machine learning model used for regression tasks.\n",
    "from sklearn.ensemble import RandomForestRegressor\n",
    "\n",
    "#A function to evaluate the performance of the regression model.\n",
    "from sklearn.metrics import mean_squared_error\n",
    "\n",
    "#Library for creating visualizations.\n",
    "import matplotlib.pyplot as plt"
   ]
  },
  {
   "cell_type": "markdown",
   "id": "76b93808",
   "metadata": {},
   "source": [
    "### This function calculates the Relative Strength Index (RSI), a momentum indicator used in technical analysis.\n",
    "\n",
    "   - delta = close.diff(): Calculates the difference between consecutive closing prices.\n",
    "   - gain: Calculates the rolling mean of gains.\n",
    "   - loss: Calculates the rolling mean of losses.\n",
    "   - rs = gain / loss: Calculates the relative strength.\n",
    "   - rsi = 100 - (100 / (1 + rs)): Converts the relative strength into RSI values."
   ]
  },
  {
   "cell_type": "code",
   "execution_count": 13,
   "id": "818a83d8",
   "metadata": {},
   "outputs": [],
   "source": [
    "# Define the function to calculate Relative Strength Index (RSI)\n",
    "def calculate_rsi(close, window):\n",
    "    delta = close.diff()\n",
    "    gain = (delta.where(delta > 0, 0)).rolling(window=window).mean()\n",
    "    loss = (-delta.where(delta < 0, 0)).rolling(window=window).mean()\n",
    "    rs = gain / loss\n",
    "    rsi = 100 - (100 / (1 + rs))\n",
    "    return rsi"
   ]
  },
  {
   "cell_type": "markdown",
   "id": "e917fd66",
   "metadata": {},
   "source": [
    "### Fetching Historical Stock Price Data\n",
    "\n",
    "   - ticker: Symbol for the stock.\n",
    "   - yf.download(): Fetches historical stock price data for the specified ticker and date range."
   ]
  },
  {
   "cell_type": "code",
   "execution_count": 21,
   "id": "45cf09e4",
   "metadata": {},
   "outputs": [
    {
     "name": "stderr",
     "output_type": "stream",
     "text": [
      "[*********************100%%**********************]  1 of 1 completed\n"
     ]
    }
   ],
   "source": [
    "# Fetching historical stock price data for a Thai stock\n",
    "ticker = 'SHR.BK'  \n",
    "data = yf.download(ticker, start='2010-01-01', end='2022-01-01')"
   ]
  },
  {
   "cell_type": "markdown",
   "id": "ea599cd3",
   "metadata": {},
   "source": [
    "### Feature Engineering\n",
    "\n",
    "Calculates the 50-day and 200-day Simple Moving Averages (SMA) and the 14-day RSI.\n",
    "   - rolling(window=50).mean(): Computes the rolling mean over the specified window size."
   ]
  },
  {
   "cell_type": "code",
   "execution_count": 22,
   "id": "fb3f2315",
   "metadata": {},
   "outputs": [],
   "source": [
    "# Feature Engineering\n",
    "data['SMA50'] = data['Close'].rolling(window=50).mean()\n",
    "data['SMA200'] = data['Close'].rolling(window=200).mean()\n",
    "data['RSI'] = calculate_rsi(data['Close'], window=14)"
   ]
  },
  {
   "cell_type": "markdown",
   "id": "b7e9b524",
   "metadata": {},
   "source": [
    "### Drop missing values and unnecessary columns and Splitting Data\n",
    "\n",
    "   - dropna(): Removes rows with missing values.\n",
    "   - drop(): Removes specified columns that are not needed for the analysis.\n",
    "   - X: Features used for training the model (SMA50, SMA200, RSI).\n",
    "   - y: Target variable (closing prices).\n",
    "   - Splits the dataset into training (80%) and testing (20%) sets.\n",
    "   - random_state=42: Ensures reproducibility by setting a random seed."
   ]
  },
  {
   "cell_type": "code",
   "execution_count": 23,
   "id": "43b5e6e8",
   "metadata": {},
   "outputs": [],
   "source": [
    "# Drop missing values and unnecessary columns\n",
    "data.dropna(inplace=True)\n",
    "data.drop(['Open', 'High', 'Low', 'Volume', 'Adj Close'], axis=1, inplace=True)\n",
    "\n",
    "# Splitting the data into features and target variable\n",
    "X = data.drop(['Close'], axis=1)\n",
    "y = data['Close']\n",
    "\n",
    "# Splitting the data into train and test sets\n",
    "X_train, X_test, y_train, y_test = train_test_split(X, y, test_size=0.2, random_state=42)"
   ]
  },
  {
   "cell_type": "markdown",
   "id": "104fea5f",
   "metadata": {},
   "source": [
    "### Training the Random Forest Regressor model\n",
    "\n",
    "   - RandomForestRegressor: Initializes the Random Forest model with 100 trees.\n",
    "   - fit(): Trains the model using the training data.\n",
    "   - predict(): Makes predictions on the test data.\n",
    "   - mean_squared_error(): Calculates the mean squared error between the actual and predicted values."
   ]
  },
  {
   "cell_type": "code",
   "execution_count": 24,
   "id": "eb03ca63",
   "metadata": {},
   "outputs": [
    {
     "name": "stdout",
     "output_type": "stream",
     "text": [
      "Mean Squared Error: 0.004112592214121047\n"
     ]
    }
   ],
   "source": [
    "# Training the Random Forest Regressor model\n",
    "rf_regressor = RandomForestRegressor(n_estimators=100, random_state=42)\n",
    "rf_regressor.fit(X_train, y_train)\n",
    "\n",
    "# Making predictions on the test set\n",
    "predictions = rf_regressor.predict(X_test)\n",
    "\n",
    "# Evaluating the model\n",
    "mse = mean_squared_error(y_test, predictions)\n",
    "print(\"Mean Squared Error:\", mse)"
   ]
  },
  {
   "cell_type": "markdown",
   "id": "d410084d",
   "metadata": {},
   "source": [
    "### Forecasting\n",
    "\n",
    "   -   pd.date_range(): Generates future dates.\n",
    "   - Prepares a DataFrame for future data and fills it with the last available values from the historical data.\n",
    "   - predict(): Forecasts future prices using the trained model."
   ]
  },
  {
   "cell_type": "code",
   "execution_count": 25,
   "id": "295d67c2",
   "metadata": {},
   "outputs": [],
   "source": [
    "# Forecasting future prices\n",
    "future_dates = pd.date_range(start='2022-01-02', end='2023-01-01')\n",
    "future_data = pd.DataFrame(index=future_dates)\n",
    "future_data['SMA50'] = data['SMA50'].iloc[-1]\n",
    "future_data['SMA200'] = data['SMA200'].iloc[-1]\n",
    "future_data['RSI'] = data['RSI'].iloc[-1]\n",
    "\n",
    "# Filling missing values with last available values\n",
    "future_data.fillna(method='ffill', inplace=True)\n",
    "future_forecast = rf_regressor.predict(future_data)\n",
    "\n",
    "# Creating a DataFrame for the forecasted prices\n",
    "forecast_df = pd.DataFrame(index=future_dates)\n",
    "forecast_df['Forecast'] = future_forecast"
   ]
  },
  {
   "cell_type": "markdown",
   "id": "ba77f5b3",
   "metadata": {},
   "source": [
    "### Generating Signal\n",
    "\n",
    "   - Generates buy and sell signals based on the forecasted and actual prices.\n",
    "   - np.where(): Creates buy and sell signals (1 for buy/sell, 0 otherwise)."
   ]
  },
  {
   "cell_type": "code",
   "execution_count": 26,
   "id": "edf4e43a",
   "metadata": {},
   "outputs": [],
   "source": [
    "# Generate signals based on forecast\n",
    "def generate_signals(data, actual_prices):\n",
    "    signals = pd.DataFrame(index=data.index)\n",
    "    signals['Forecast'] = data['Forecast']\n",
    "    actual_prices_reindexed = actual_prices.reindex(data.index, method='ffill')\n",
    "    signals['Actual'] = actual_prices_reindexed['Close']\n",
    "    signals['Buy'] = np.where(signals['Forecast'] > signals['Actual'], 1, 0)\n",
    "    signals['Sell'] = np.where(signals['Forecast'] < signals['Actual'], 1, 0)\n",
    "    return signals\n",
    "\n",
    "# Generate signals using historical actual prices as reference\n",
    "signals_df = generate_signals(forecast_df, data)"
   ]
  },
  {
   "cell_type": "markdown",
   "id": "eb2c8dd7",
   "metadata": {},
   "source": [
    "### Visualizing\n",
    "\n",
    "   - Plots the actual and forecasted prices.\n",
    "   - Marks buy and sell signals with green and red markers respectively.\n",
    "   - plt.figure(): Sets the figure size.\n",
    "   - plt.plot(): Plots lines for actual and forecasted prices.\n",
    "   - plt.scatter(): Plots buy and sell signals.\n",
    "   - plt.title(), plt.xlabel(), plt.ylabel(), plt.legend(): Adds titles and labels to the plot."
   ]
  },
  {
   "cell_type": "code",
   "execution_count": 27,
   "id": "d423a0a9",
   "metadata": {},
   "outputs": [
    {
     "data": {
      "image/png": "[encoded data removed]",
      "text/plain": [
       "<Figure size 864x432 with 1 Axes>"
      ]
     },
     "metadata": {
      "needs_background": "light"
     },
     "output_type": "display_data"
    }
   ],
   "source": [
    "# Visualizing the forecasted prices and signals\n",
    "plt.figure(figsize=(12, 6))\n",
    "plt.plot(data.index, data['Close'], label='Actual Price')\n",
    "plt.plot(forecast_df.index, forecast_df['Forecast'], label='Forecasted Price', linestyle='dashed')\n",
    "plt.scatter(signals_df[signals_df['Buy'] == 1].index, signals_df['Actual'][signals_df['Buy'] == 1], marker='^', color='g', label='Buy Signal')\n",
    "plt.scatter(signals_df[signals_df['Sell'] == 1].index, signals_df['Actual'][signals_df['Sell'] == 1], marker='v', color='r', label='Sell Signal')\n",
    "plt.title('Stock Price Forecast with Buy/Sell Signals for '+ ticker)\n",
    "plt.xlabel('Date')\n",
    "plt.ylabel('Price')\n",
    "plt.legend()\n",
    "plt.show()"
   ]
  },
  {
   "cell_type": "code",
   "execution_count": null,
   "id": "4060e401",
   "metadata": {},
   "outputs": [],
   "source": []
  },
  {
   "cell_type": "code",
   "execution_count": null,
   "id": "6eefdfb2",
   "metadata": {},
   "outputs": [],
   "source": []
  }
 ],
 "metadata": {
  "kernelspec": {
   "display_name": "Python 3 (ipykernel)",
   "language": "python",
   "name": "python3"
  },
  "language_info": {
   "codemirror_mode": {
    "name": "ipython",
    "version": 3
   },
   "file_extension": ".py",
   "mimetype": "text/x-python",
   "name": "python",
   "nbconvert_exporter": "python",
   "pygments_lexer": "ipython3",
   "version": "3.9.7"
  }
 },
 "nbformat": 4,
 "nbformat_minor": 5
}
